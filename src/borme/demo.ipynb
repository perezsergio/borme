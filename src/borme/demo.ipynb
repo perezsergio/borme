{
 "cells": [
  {
   "cell_type": "code",
   "execution_count": 1,
   "metadata": {},
   "outputs": [],
   "source": [
    "from logging_set_up import set_up_root_logger\n",
    "from logging import getLogger\n",
    "\n",
    "set_up_root_logger()\n",
    "logger = getLogger()\n",
    "logger.warning(\"Example warning message\")"
   ]
  },
  {
   "cell_type": "code",
   "execution_count": 3,
   "metadata": {},
   "outputs": [
    {
     "data": {
      "text/plain": [
       "logging.StreamHandler"
      ]
     },
     "execution_count": 3,
     "metadata": {},
     "output_type": "execute_result"
    }
   ],
   "source": [
    "from logging import getLogger, FileHandler, StreamHandler, basicConfig\n",
    "\n",
    "type(StreamHandler())"
   ]
  },
  {
   "cell_type": "code",
   "execution_count": 3,
   "metadata": {},
   "outputs": [
    {
     "name": "stderr",
     "output_type": "stream",
     "text": [
      "2024-01-03 20:38:40,678: WARNING : Example warning message\n"
     ]
    }
   ],
   "source": []
  },
  {
   "cell_type": "code",
   "execution_count": 8,
   "metadata": {},
   "outputs": [
    {
     "name": "stdout",
     "output_type": "stream",
     "text": [
      "                                      888                \n",
      " e88'888 888,8,  ,\"Y88b Y8b Y8b Y888P 888  ,e e,  888,8, \n",
      "d888  '8 888 \"  \"8\" 888  Y8b Y8b Y8P  888 d88 88b 888 \"  \n",
      "Y888   , 888    ,ee 888   Y8b Y8b \"   888 888   , 888    \n",
      " \"88,e8' 888    \"88 888    YP  Y8P    888  \"YeeP\" 888    \n",
      "                                                         \n",
      "                                                         \n",
      "\n"
     ]
    }
   ],
   "source": [
    "from pyfiglet import Figlet\n",
    "\n",
    "f = Figlet(font=\"rozzo\")\n",
    "print(f.renderText(\"crawler\"))"
   ]
  },
  {
   "cell_type": "code",
   "execution_count": 3,
   "metadata": {},
   "outputs": [],
   "source": [
    "from datetime import date\n",
    "\n",
    "import requests\n",
    "from utils.borme_website import construct_borme_daily_url, download_pdf\n",
    "\n",
    "url = construct_borme_daily_url(date(2023, 12, 2))\n",
    "\n",
    "response = requests.get(url)"
   ]
  },
  {
   "cell_type": "code",
   "execution_count": 4,
   "metadata": {},
   "outputs": [
    {
     "data": {
      "text/plain": [
       "404"
      ]
     },
     "execution_count": 4,
     "metadata": {},
     "output_type": "execute_result"
    }
   ],
   "source": [
    "response.status_code"
   ]
  }
 ],
 "metadata": {
  "kernelspec": {
   "display_name": "atd",
   "language": "python",
   "name": "python3"
  },
  "language_info": {
   "codemirror_mode": {
    "name": "ipython",
    "version": 3
   },
   "file_extension": ".py",
   "mimetype": "text/x-python",
   "name": "python",
   "nbconvert_exporter": "python",
   "pygments_lexer": "ipython3",
   "version": "3.11.5"
  }
 },
 "nbformat": 4,
 "nbformat_minor": 2
}
